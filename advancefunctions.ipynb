{
 "cells": [
  {
   "cell_type": "markdown",
   "metadata": {},
   "source": [
    "# Module 4: Advanced Functions Assignments\n",
    "## Lesson 4.1: Defining Functions\n",
    "### Assignment 1: Fibonacci Sequence with Memoization\n",
    "\n",
    "Define a recursive function to calculate the nth Fibonacci number using memoization. Test the function with different inputs.\n",
    "\n",
    "### Assignment 2: Function with Nested Default Arguments\n",
    "\n",
    "Define a function that takes two arguments, a and b, where b is a dictionary with a default value of an empty dictionary. The function should add a new key-value pair to the dictionary and return it. Test the function with different inputs.\n",
    "\n",
    "### Assignment 3: Function with Variable Keyword Arguments\n",
    "\n",
    "#Define a function that takes a variable number of keyword arguments and returns a dictionary containing only those key-value pairs where the value is an integer. Test the function with different inputs.\n",
    "\n",
    "### Assignment 4: Function with Callback\n",
    "\n",
    "Define a function that takes another function as a callback and a list of integers. The function should apply the callback to each integer in the list and return a new list with the results. Test with different callback functions.\n",
    "\n",
    "### Assignment 5: Function that Returns a Function\n",
    "\n",
    "Define a function that returns another function. The returned function should take an integer and return its square. Test the returned function with different inputs.\n",
    "\n",
    "### Assignment 6: Function with Decorators\n",
    "\n",
    "Define a function that calculates the time taken to execute another function. Apply this decorator to a function that performs a complex calculation. Test the decorated function with different inputs.\n",
    "\n",
    "### Assignment 7: Higher-Order Function for Filtering and Mapping\n",
    "\n",
    "Define a higher-order function that takes two functions, a filter function and a map function, along with a list of integers. The higher-order function should first filter the integers using the filter function and then apply the map function to the filtered integers. Test with different filter and map functions.\n",
    "\n",
    "### Assignment 8: Function Composition\n",
    "\n",
    "Define a function that composes two functions, f and g, such that the result is f(g(x)). Test with different functions f and g.\n",
    "\n",
    "### Assignment 9: Partial Function Application\n",
    "\n",
    "Use the functools.partial function to create a new function that multiplies its input by 2. Test the new function with different inputs.\n",
    "\n",
    "### Assignment 10: Function with Error Handling\n",
    "\n",
    "Define a function that takes a list of integers and returns their average. The function should handle any errors that occur (e.g., empty list) and return None in such cases. Test with different inputs.\n",
    "\n",
    "### Assignment 11: Function with Generators\n",
    "\n",
    "Define a function that generates an infinite sequence of Fibonacci numbers. Test by printing the first 10 numbers in the sequence.\n",
    "\n",
    "### Assignment 12: Currying\n",
    "\n",
    "Define a curried function that takes three arguments, one at a time, and returns their product. Test the function by providing arguments one at a time.\n",
    "\n",
    "### Assignment 13: Function with Context Manager\n",
    "\n",
    "Define a function that uses a context manager to write a list of integers to a file. The function should handle any errors that occur during file operations. Test with different lists.\n",
    "\n",
    "### Assignment 14: Function with Multiple Return Types\n",
    "\n",
    "Define a function that takes a list of mixed data types (integers, strings, and floats) and returns three lists: one containing all the integers, one containing all the strings, and one containing all the floats. Test with different inputs.\n",
    "\n",
    "### Assignment 15: Function with State\n",
    "\n",
    "Define a function that maintains state between calls using a mutable default argument. The function should keep track of how many times it has been called. Test by calling the function multiple times."
   ]
  },
  {
   "cell_type": "code",
   "execution_count": 13,
   "metadata": {},
   "outputs": [
    {
     "data": {
      "text/plain": [
       "55"
      ]
     },
     "execution_count": 13,
     "metadata": {},
     "output_type": "execute_result"
    }
   ],
   "source": [
    "#### Assignment 1: Fibonacci Sequence with Memoization\n",
    "\n",
    "#Define a recursive function to calculate the nth Fibonacci number using memoization. Test the function with different inputs.\n",
    " #fibonacci series is 0,1,1,2,3,5,8,13,21,34,55,89,144,233,377,610\n",
    "def fibonacci(n, memo):\n",
    "    if n in memo:\n",
    "        return memo[n]\n",
    "    if n == 0:\n",
    "        return 0\n",
    "    if n == 1:\n",
    "        return 1\n",
    "    if n==2:\n",
    "        return 1\n",
    "    memo[n]= fibonacci(n-2, memo) + fibonacci(n-1, memo)\n",
    "    return memo[n]\n",
    "fibonacci(10,{})\n",
    "\n"
   ]
  },
  {
   "cell_type": "code",
   "execution_count": 25,
   "id": "ddb74e60",
   "metadata": {},
   "outputs": [
    {
     "data": {
      "text/plain": [
       "{1: 2, 2: 3, 3: 9}"
      ]
     },
     "execution_count": 25,
     "metadata": {},
     "output_type": "execute_result"
    }
   ],
   "source": [
    "### Assignment 2: Function with Nested Default Arguments\n",
    "\n",
    "#Define a function that takes two arguments, a and b, where b is a dictionary\n",
    "#  with a default value of an empty dictionary. The function should add a new key-value pair to the\n",
    "#  dictionary and return it. Test the function with different inputs.\n",
    "#explanation: we are defining a function add_key which takes two arguments a and b,\n",
    "#  where b is a dictionary with a default value of an empty dictionary.\n",
    "#  The function should add a new key-value pair to the dictionary and return it.\n",
    "def add_key(a, b={}):\n",
    "    b[a] = a*a\n",
    "    return b    \n",
    "add_key(3, {1: 2, 2: 3})"
   ]
  },
  {
   "cell_type": "code",
   "execution_count": 26,
   "id": "91c027f0",
   "metadata": {},
   "outputs": [
    {
     "name": "stdout",
     "output_type": "stream",
     "text": [
      "a 1\n",
      "c 3\n"
     ]
    }
   ],
   "source": [
    "### Assignment 3: Function with Variable Keyword Arguments\n",
    "\n",
    "#Define a function that takes a variable number of keyword arguments \n",
    "# and returns a dictionary containing only those key-value pairs where the value is an integer.\n",
    "#  Test the function with different inputs.\n",
    "def test(**kwargs):\n",
    "    for key,value in kwargs.items():\n",
    "        if type(value)==int:\n",
    "            print(key, value)\n",
    "test(a=1, b='2', c=3, d='4')"
   ]
  },
  {
   "cell_type": "code",
   "execution_count": 27,
   "id": "a7522ffa",
   "metadata": {},
   "outputs": [
    {
     "name": "stdout",
     "output_type": "stream",
     "text": [
      "name=john\n",
      "age=25\n",
      "city=New York\n",
      "phone=1234567890\n"
     ]
    }
   ],
   "source": [
    "# it's like adding some arguments to \n",
    "# a function and then calling the function with those arguments.\n",
    " \n",
    "def abc (**kwargs):\n",
    "    for key, value in kwargs.items():\n",
    "        print(f\"{key}={value}\")\n",
    "abc(name=\"john\", age=25, city=\"New York\", phone=\"1234567890\")"
   ]
  },
  {
   "cell_type": "markdown",
   "id": "ef417b19",
   "metadata": {},
   "source": [
    "so , my summary is :using keyword arguments , i can make dictionaries elements. "
   ]
  },
  {
   "cell_type": "code",
   "execution_count": 28,
   "id": "c8ab9922",
   "metadata": {},
   "outputs": [],
   "source": [
    "import math \n",
    "def calculate_lift_rounds(n, capacity):\n",
    "    \"\"\"\n",
    "    Function to calculate the number of rounds the lift needs to cover.\n",
    "    \n",
    "    Parameters:\n",
    "    n (int): Total number of people.\n",
    "    capacity (int): Maximum number of people the lift can carry in one round.\n",
    "    \n",
    "    Returns:\n",
    "    int: The number of rounds required to transport all people to the top floor.\n",
    "    \"\"\"\n",
    "    # Your code here\n",
    "    return math.ceil(n/capacity)"
   ]
  }
 ],
 "metadata": {
  "kernelspec": {
   "display_name": ".venv",
   "language": "python",
   "name": "python3"
  },
  "language_info": {
   "codemirror_mode": {
    "name": "ipython",
    "version": 3
   },
   "file_extension": ".py",
   "mimetype": "text/x-python",
   "name": "python",
   "nbconvert_exporter": "python",
   "pygments_lexer": "ipython3",
   "version": "3.13.1"
  }
 },
 "nbformat": 4,
 "nbformat_minor": 5
}
